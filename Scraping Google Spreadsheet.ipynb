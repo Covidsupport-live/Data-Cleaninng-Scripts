{
 "cells": [
  {
   "cell_type": "code",
   "execution_count": 4,
   "metadata": {},
   "outputs": [],
   "source": [
    "import pandas as pd"
   ]
  },
  {
   "cell_type": "code",
   "execution_count": 5,
   "metadata": {},
   "outputs": [],
   "source": [
    "sheet_id = \"11zkegb8A1FBMx9_O9nG6gadnKBhZe-r7-Grzj3oB09w\"\n",
    "sheet_name = \"BEDS\"\n",
    "url = f\"https://docs.google.com/spreadsheets/d/{sheet_id}/gviz/tq?tqx=out:csv&sheet={sheet_name}\""
   ]
  },
  {
   "cell_type": "code",
   "execution_count": 6,
   "metadata": {},
   "outputs": [],
   "source": [
    "df=pd.read_csv(url)"
   ]
  },
  {
   "cell_type": "code",
   "execution_count": 7,
   "metadata": {},
   "outputs": [],
   "source": [
    "# df.columns"
   ]
  },
  {
   "cell_type": "code",
   "execution_count": 8,
   "metadata": {},
   "outputs": [],
   "source": [
    "## Temp Columns Name\n",
    "tmp_col_names = ['Facility provided', 'District.1',\n",
    "       'Name of the Organisation/Contact Person ', 'Location',\n",
    "       'Contact number ', 'Verification  Status', 'Verification time',\n",
    "       'Availability Status', 'Comments', 'Status']"
   ]
  },
  {
   "cell_type": "code",
   "execution_count": 9,
   "metadata": {},
   "outputs": [],
   "source": [
    "## Delete Unnecessary columns\n",
    "for i in df.columns:\n",
    "    if i not in tmp_col_names:\n",
    "        try :\n",
    "            del df[f\"{i}\"]\n",
    "        \n",
    "        except Exception as e:\n",
    "            print(f\"Error in deelting {i} row\")\n",
    "\n",
    "no_of_rows = df.shape[0]"
   ]
  },
  {
   "cell_type": "code",
   "execution_count": 10,
   "metadata": {},
   "outputs": [],
   "source": [
    "df = df[df[\"Facility provided\"].apply(lambda x : str(x).lower() == \"beds\" or str(x).lower() == \"bed\")]"
   ]
  },
  {
   "cell_type": "code",
   "execution_count": 11,
   "metadata": {},
   "outputs": [
    {
     "data": {
      "text/plain": [
       "True"
      ]
     },
     "execution_count": 11,
     "metadata": {},
     "output_type": "execute_result"
    }
   ],
   "source": [
    "df[\"Availability Status\"][0] != df[\"Availability Status\"][0]"
   ]
  },
  {
   "cell_type": "code",
   "execution_count": 12,
   "metadata": {},
   "outputs": [],
   "source": [
    "df[\"Availability Status\"] = df[\"Availability Status\"].apply(lambda x : str(x).lower() == \"available\")"
   ]
  },
  {
   "cell_type": "code",
   "execution_count": 13,
   "metadata": {},
   "outputs": [
    {
     "data": {
      "text/html": [
       "<div>\n",
       "<style scoped>\n",
       "    .dataframe tbody tr th:only-of-type {\n",
       "        vertical-align: middle;\n",
       "    }\n",
       "\n",
       "    .dataframe tbody tr th {\n",
       "        vertical-align: top;\n",
       "    }\n",
       "\n",
       "    .dataframe thead th {\n",
       "        text-align: right;\n",
       "    }\n",
       "</style>\n",
       "<table border=\"1\" class=\"dataframe\">\n",
       "  <thead>\n",
       "    <tr style=\"text-align: right;\">\n",
       "      <th></th>\n",
       "      <th>Facility provided</th>\n",
       "      <th>District.1</th>\n",
       "      <th>Name of the Organisation/Contact Person</th>\n",
       "      <th>Location</th>\n",
       "      <th>Contact number</th>\n",
       "      <th>Verification  Status</th>\n",
       "      <th>Verification time</th>\n",
       "      <th>Availability Status</th>\n",
       "      <th>Comments</th>\n",
       "      <th>Status</th>\n",
       "    </tr>\n",
       "  </thead>\n",
       "  <tbody>\n",
       "    <tr>\n",
       "      <th>0</th>\n",
       "      <td>Beds</td>\n",
       "      <td>Kolkata district</td>\n",
       "      <td>Doctor's group Dr.B.B.Banerjee</td>\n",
       "      <td>NaN</td>\n",
       "      <td>03323576001, 6291215847, 6290648755, 7003481227</td>\n",
       "      <td>Phone not reachable</td>\n",
       "      <td>5/1/2021 12:33:43</td>\n",
       "      <td>False</td>\n",
       "      <td>NaN</td>\n",
       "      <td>NaN</td>\n",
       "    </tr>\n",
       "    <tr>\n",
       "      <th>1</th>\n",
       "      <td>Beds</td>\n",
       "      <td>North 24 Parganas district (Uttar 24 Parganas)</td>\n",
       "      <td>Ashoknagar SGH</td>\n",
       "      <td>NaN</td>\n",
       "      <td>For admission call 1800313444222- Swasthya Bhawan</td>\n",
       "      <td>Phone not reachable</td>\n",
       "      <td>5/1/2021 12:33:43</td>\n",
       "      <td>True</td>\n",
       "      <td>Available as per government sheet</td>\n",
       "      <td>NaN</td>\n",
       "    </tr>\n",
       "    <tr>\n",
       "      <th>2</th>\n",
       "      <td>Beds</td>\n",
       "      <td>North 24 Parganas district (Uttar 24 Parganas)</td>\n",
       "      <td>Baranagar SGH</td>\n",
       "      <td>Baranagar</td>\n",
       "      <td>For admission call 1800313444222- Swasthya Bha...</td>\n",
       "      <td>Phone not reachable</td>\n",
       "      <td>5/1/2021 12:33:43</td>\n",
       "      <td>True</td>\n",
       "      <td>Available as per government sheet</td>\n",
       "      <td>Duplicate</td>\n",
       "    </tr>\n",
       "    <tr>\n",
       "      <th>3</th>\n",
       "      <td>Beds</td>\n",
       "      <td>Kolkata Central</td>\n",
       "      <td>Beleghata ID</td>\n",
       "      <td>Phoolbagan</td>\n",
       "      <td>(033) 2303 2200,For admission call 18003134442...</td>\n",
       "      <td>Phone not reachable</td>\n",
       "      <td>5/1/2021 12:33:43</td>\n",
       "      <td>True</td>\n",
       "      <td>NaN</td>\n",
       "      <td>NaN</td>\n",
       "    </tr>\n",
       "    <tr>\n",
       "      <th>4</th>\n",
       "      <td>Beds</td>\n",
       "      <td>NaN</td>\n",
       "      <td>Bongaon SDH</td>\n",
       "      <td>NaN</td>\n",
       "      <td>For admission call 1800313444222- Swasthya Bhawan</td>\n",
       "      <td>Phone not reachable</td>\n",
       "      <td>5/1/2021 12:33:43</td>\n",
       "      <td>False</td>\n",
       "      <td>NaN</td>\n",
       "      <td>Duplicate</td>\n",
       "    </tr>\n",
       "  </tbody>\n",
       "</table>\n",
       "</div>"
      ],
      "text/plain": [
       "  Facility provided                                      District.1  \\\n",
       "0              Beds                                Kolkata district   \n",
       "1              Beds  North 24 Parganas district (Uttar 24 Parganas)   \n",
       "2              Beds  North 24 Parganas district (Uttar 24 Parganas)   \n",
       "3              Beds                                 Kolkata Central   \n",
       "4              Beds                                             NaN   \n",
       "\n",
       "  Name of the Organisation/Contact Person     Location  \\\n",
       "0           Doctor's group Dr.B.B.Banerjee         NaN   \n",
       "1                           Ashoknagar SGH         NaN   \n",
       "2                            Baranagar SGH   Baranagar   \n",
       "3                             Beleghata ID  Phoolbagan   \n",
       "4                              Bongaon SDH         NaN   \n",
       "\n",
       "                                     Contact number  Verification  Status  \\\n",
       "0    03323576001, 6291215847, 6290648755, 7003481227  Phone not reachable   \n",
       "1  For admission call 1800313444222- Swasthya Bhawan  Phone not reachable   \n",
       "2  For admission call 1800313444222- Swasthya Bha...  Phone not reachable   \n",
       "3  (033) 2303 2200,For admission call 18003134442...  Phone not reachable   \n",
       "4  For admission call 1800313444222- Swasthya Bhawan  Phone not reachable   \n",
       "\n",
       "   Verification time  Availability Status                           Comments  \\\n",
       "0  5/1/2021 12:33:43                False                                NaN   \n",
       "1  5/1/2021 12:33:43                 True  Available as per government sheet   \n",
       "2  5/1/2021 12:33:43                 True  Available as per government sheet   \n",
       "3  5/1/2021 12:33:43                 True                                NaN   \n",
       "4  5/1/2021 12:33:43                False                                NaN   \n",
       "\n",
       "      Status  \n",
       "0        NaN  \n",
       "1        NaN  \n",
       "2  Duplicate  \n",
       "3        NaN  \n",
       "4  Duplicate  "
      ]
     },
     "execution_count": 13,
     "metadata": {},
     "output_type": "execute_result"
    }
   ],
   "source": [
    "df.head()"
   ]
  },
  {
   "cell_type": "code",
   "execution_count": 14,
   "metadata": {},
   "outputs": [],
   "source": [
    "from textblob.en import Spelling        \n",
    "from textblob import TextBlob\n",
    "\n",
    "pathToFile = \"train_district.txt\"\n",
    "spelling_district = Spelling(path = pathToFile)\n",
    "\n",
    "\n",
    "def filter_district_name(name):\n",
    "    result  = []\n",
    "    name.replace(\".\",\" \")\n",
    "    \n",
    "    if \"-\" in name:\n",
    "        name = name.split(\"-\")\n",
    "    else:\n",
    "        name = name.split(\" \")\n",
    "        \n",
    "    for i in name:\n",
    "        i = i.lower().strip()\n",
    "        # Replace the initals W. N. S. E.\n",
    "        if i == \"n\":\n",
    "            i = \"north\"\n",
    "        elif i == \"s\":\n",
    "            i = \"south\"\n",
    "        elif i == \"e\":\n",
    "            i = \"east\"\n",
    "        elif i == \"w\":\n",
    "            i = \"west\"\n",
    "        elif i == \"pgs\":\n",
    "            i = \"parganas\"\n",
    "            \n",
    "        print(i)\n",
    "        word, percentage = spelling_district.suggest(i)[0]\n",
    "        if percentage > 0:\n",
    "            word.strip()\n",
    "            # Correct with different spelling that can be used in DB specification\n",
    "            if word == \"midnapore\":\n",
    "                word = \"medinipur\"\n",
    "            elif word == \"burdwan\":\n",
    "                word = \"bardhaman\"\n",
    "            elif word == \"hugli\":\n",
    "                word = \"hooghly\"\n",
    "            \n",
    "            result.append(word.title())\n",
    "    \n",
    "                \n",
    "    if \"Bardhaman\" in result:\n",
    "        if \"West\" in result:\n",
    "            result[0] = \"Paschim\"\n",
    "\n",
    "        elif \"East\" in result:\n",
    "            result[0] = \"Purba\"\n",
    "            \n",
    "    return ' '.join(result)"
   ]
  },
  {
   "cell_type": "code",
   "execution_count": 15,
   "metadata": {},
   "outputs": [
    {
     "name": "stdout",
     "output_type": "stream",
     "text": [
      "kolkata\n",
      "district\n",
      "Kolkata district  Kolkata\n",
      "north\n",
      "24\n",
      "parganas\n",
      "district\n",
      "(uttar\n",
      "24\n",
      "parganas)\n",
      "North 24 Parganas district (Uttar 24 Parganas)  North 24 Parganas Uttar 24 Parganas\n",
      "north\n",
      "24\n",
      "parganas\n",
      "district\n",
      "(uttar\n",
      "24\n",
      "parganas)\n",
      "North 24 Parganas district (Uttar 24 Parganas)  North 24 Parganas Uttar 24 Parganas\n",
      "kolkata\n",
      "central\n",
      "Kolkata Central  Kolkata Central\n"
     ]
    },
    {
     "ename": "AttributeError",
     "evalue": "'float' object has no attribute 'replace'",
     "output_type": "error",
     "traceback": [
      "\u001b[0;31m-------------------------------------------------------------\u001b[0m",
      "\u001b[0;31mAttributeError\u001b[0m              Traceback (most recent call last)",
      "\u001b[0;32m<ipython-input-15-50241f8d4f21>\u001b[0m in \u001b[0;36m<module>\u001b[0;34m\u001b[0m\n\u001b[1;32m      1\u001b[0m \u001b[0;32mfor\u001b[0m \u001b[0mi\u001b[0m \u001b[0;32min\u001b[0m \u001b[0mdf\u001b[0m\u001b[0;34m[\u001b[0m\u001b[0;34m\"District.1\"\u001b[0m\u001b[0;34m]\u001b[0m\u001b[0;34m:\u001b[0m\u001b[0;34m\u001b[0m\u001b[0;34m\u001b[0m\u001b[0m\n\u001b[0;32m----> 2\u001b[0;31m     \u001b[0mprint\u001b[0m\u001b[0;34m(\u001b[0m\u001b[0;34mf\"{i}  {filter_district_name(i)}\"\u001b[0m\u001b[0;34m)\u001b[0m\u001b[0;34m\u001b[0m\u001b[0;34m\u001b[0m\u001b[0m\n\u001b[0m",
      "\u001b[0;32m<ipython-input-14-f2bb8817b3d6>\u001b[0m in \u001b[0;36mfilter_district_name\u001b[0;34m(name)\u001b[0m\n\u001b[1;32m      8\u001b[0m \u001b[0;32mdef\u001b[0m \u001b[0mfilter_district_name\u001b[0m\u001b[0;34m(\u001b[0m\u001b[0mname\u001b[0m\u001b[0;34m)\u001b[0m\u001b[0;34m:\u001b[0m\u001b[0;34m\u001b[0m\u001b[0;34m\u001b[0m\u001b[0m\n\u001b[1;32m      9\u001b[0m     \u001b[0mresult\u001b[0m  \u001b[0;34m=\u001b[0m \u001b[0;34m[\u001b[0m\u001b[0;34m]\u001b[0m\u001b[0;34m\u001b[0m\u001b[0;34m\u001b[0m\u001b[0m\n\u001b[0;32m---> 10\u001b[0;31m     \u001b[0mname\u001b[0m\u001b[0;34m.\u001b[0m\u001b[0mreplace\u001b[0m\u001b[0;34m(\u001b[0m\u001b[0;34m\".\"\u001b[0m\u001b[0;34m,\u001b[0m\u001b[0;34m\" \"\u001b[0m\u001b[0;34m)\u001b[0m\u001b[0;34m\u001b[0m\u001b[0;34m\u001b[0m\u001b[0m\n\u001b[0m\u001b[1;32m     11\u001b[0m \u001b[0;34m\u001b[0m\u001b[0m\n\u001b[1;32m     12\u001b[0m     \u001b[0;32mif\u001b[0m \u001b[0;34m\"-\"\u001b[0m \u001b[0;32min\u001b[0m \u001b[0mname\u001b[0m\u001b[0;34m:\u001b[0m\u001b[0;34m\u001b[0m\u001b[0;34m\u001b[0m\u001b[0m\n",
      "\u001b[0;31mAttributeError\u001b[0m: 'float' object has no attribute 'replace'"
     ]
    }
   ],
   "source": [
    "for i in df[\"District.1\"]:\n",
    "    print(f\"{i}  {filter_district_name(i)}\")"
   ]
  },
  {
   "cell_type": "code",
   "execution_count": null,
   "metadata": {},
   "outputs": [],
   "source": []
  },
  {
   "cell_type": "code",
   "execution_count": null,
   "metadata": {},
   "outputs": [],
   "source": []
  },
  {
   "cell_type": "code",
   "execution_count": null,
   "metadata": {},
   "outputs": [],
   "source": []
  },
  {
   "cell_type": "code",
   "execution_count": null,
   "metadata": {},
   "outputs": [],
   "source": []
  },
  {
   "cell_type": "code",
   "execution_count": null,
   "metadata": {},
   "outputs": [],
   "source": []
  },
  {
   "cell_type": "code",
   "execution_count": null,
   "metadata": {},
   "outputs": [],
   "source": []
  },
  {
   "cell_type": "code",
   "execution_count": null,
   "metadata": {},
   "outputs": [],
   "source": []
  },
  {
   "cell_type": "code",
   "execution_count": null,
   "metadata": {},
   "outputs": [],
   "source": []
  },
  {
   "cell_type": "code",
   "execution_count": null,
   "metadata": {},
   "outputs": [],
   "source": []
  },
  {
   "cell_type": "code",
   "execution_count": null,
   "metadata": {},
   "outputs": [],
   "source": []
  }
 ],
 "metadata": {
  "kernelspec": {
   "display_name": "Python 3",
   "language": "python",
   "name": "python3"
  },
  "language_info": {
   "codemirror_mode": {
    "name": "ipython",
    "version": 3
   },
   "file_extension": ".py",
   "mimetype": "text/x-python",
   "name": "python",
   "nbconvert_exporter": "python",
   "pygments_lexer": "ipython3",
   "version": "3.8.5"
  }
 },
 "nbformat": 4,
 "nbformat_minor": 4
}
