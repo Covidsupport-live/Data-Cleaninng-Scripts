{
 "cells": [
  {
   "cell_type": "markdown",
   "metadata": {},
   "source": [
    "## Mobile Clean Data"
   ]
  },
  {
   "cell_type": "code",
   "execution_count": 77,
   "metadata": {},
   "outputs": [],
   "source": [
    "def MobileCleanData(data):\n",
    "    # Process data for DB\n",
    "    # Database only have Big Integer field , String not accepted\n",
    "    result = []\n",
    "    copydata = None\n",
    "    # Split data at \"/\" & \",\" for multiple mobile number\n",
    "    if \"/\" in str(data):\n",
    "        copydata = str(data).split(\"/\")\n",
    "    elif \",\" in str(data):\n",
    "        copydata = str(data).split(\",\")\n",
    "    else:\n",
    "        copydata = [data]\n",
    "\n",
    "    for item in copydata:\n",
    "        try:\n",
    "            # Remove \"+\"\n",
    "            # Remove \"(\" & \")\"\n",
    "            # Remove \"-\"\n",
    "            # Remove all blank spaces\n",
    "            tmp = item.replace(\"+\",\"\").replace(\"(\",\"\").replace(\")\",\"\").replace(\"-\",\"\").replace(\" \",\"\") \n",
    "            \n",
    "            # Check whether its is empty or not before typecasting to int to reduce possibility of error\n",
    "            if tmp.strip() != \"\":\n",
    "                result.append(int(tmp))\n",
    "        \n",
    "        except ValueError:\n",
    "            print(f\"{item} failed\")\n",
    "    # Will return a tupple of (<No of mobile numbers>, [list of <mobileno>])\n",
    "    return len(result),result"
   ]
  },
  {
   "cell_type": "markdown",
   "metadata": {},
   "source": [
    "## Testing"
   ]
  },
  {
   "cell_type": "code",
   "execution_count": 81,
   "metadata": {},
   "outputs": [
    {
     "name": "stdout",
     "output_type": "stream",
     "text": [
      "No of mobile numbers : 1 Numbers : [4545455]\n",
      "No of mobile numbers : 3 Numbers : [44545455, 54556464, 556]\n",
      "No of mobile numbers : 3 Numbers : [5454, 55666, 56565656]\n",
      "No of mobile numbers : 2 Numbers : [334554, 654565]\n",
      "No of mobile numbers : 2 Numbers : [4565446456, 54598956]\n",
      "No of mobile numbers : 1 Numbers : [3389965]\n",
      "No of mobile numbers : 2 Numbers : [334554, 654565]\n"
     ]
    }
   ],
   "source": [
    "## Examples\n",
    "list_of_Examples = [\n",
    "    \"4545455\",\n",
    "    \"44545455/54556464/556\",\n",
    "    \"5454,55666,56565656\",\n",
    "    \"(033) 4554, 654565\",\n",
    "    \"45654-464-56,545-989-56\",\n",
    "    \"(033)-89-965\",\n",
    "    \"(033) 4554, 654- -56 -5\",\n",
    "\n",
    "]\n",
    "for i in list_of_Examples:\n",
    "    noofmobiles, mobilenos = cleanData(i)\n",
    "    print(f\"No of mobile numbers : {noofmobiles} Numbers : {mobilenos}\")"
   ]
  },
  {
   "cell_type": "code",
   "execution_count": 80,
   "metadata": {},
   "outputs": [
    {
     "data": {
      "text/plain": [
       "(1, [919333584419])"
      ]
     },
     "execution_count": 80,
     "metadata": {},
     "output_type": "execute_result"
    }
   ],
   "source": [
    "cleanData(\"(+91) 9333584419, ,     , ,      \")"
   ]
  },
  {
   "cell_type": "code",
   "execution_count": null,
   "metadata": {},
   "outputs": [],
   "source": []
  }
 ],
 "metadata": {
  "kernelspec": {
   "display_name": "Python 3",
   "language": "python",
   "name": "python3"
  },
  "language_info": {
   "codemirror_mode": {
    "name": "ipython",
    "version": 3
   },
   "file_extension": ".py",
   "mimetype": "text/x-python",
   "name": "python",
   "nbconvert_exporter": "python",
   "pygments_lexer": "ipython3",
   "version": "3.8.5"
  }
 },
 "nbformat": 4,
 "nbformat_minor": 4
}
