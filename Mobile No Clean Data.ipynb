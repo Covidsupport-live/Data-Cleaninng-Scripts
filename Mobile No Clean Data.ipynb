{
 "cells": [
  {
   "cell_type": "markdown",
   "metadata": {},
   "source": [
    "## Mobile Clean Data"
   ]
  },
  {
   "cell_type": "code",
   "execution_count": 1,
   "metadata": {},
   "outputs": [],
   "source": [
    "def MobileCleanData(data):\n",
    "    # Process data for DB\n",
    "    # Database only have Big Integer field , String not accepted\n",
    "    result = []\n",
    "    copydata = None\n",
    "    # Split data at \"/\" & \",\" for multiple mobile number\n",
    "    if \"/\" in str(data):\n",
    "        copydata = str(data).split(\"/\")\n",
    "    elif \",\" in str(data):\n",
    "        copydata = str(data).split(\",\")\n",
    "    else:\n",
    "        copydata = [data]\n",
    "\n",
    "    for item in copydata:\n",
    "        try:\n",
    "            # Remove \"+\"\n",
    "            # Remove \"(\" & \")\"\n",
    "            # Remove \"-\"\n",
    "            # Remove all blank spaces\n",
    "            tmp = item.replace(\"+\",\"\").replace(\"(\",\"\").replace(\")\",\"\").replace(\"-\",\"\").replace(\" \",\"\") \n",
    "            \n",
    "            # Check whether its is empty or not before typecasting to int to reduce possibility of error\n",
    "            if tmp.strip() != \"\":\n",
    "                result.append(int(tmp))\n",
    "        \n",
    "        except ValueError:\n",
    "            print(f\"{item} failed\")\n",
    "    # Will return a tupple of (<No of mobile numbers>, [list of <mobileno>])\n",
    "    return len(result),result"
   ]
  },
  {
   "cell_type": "markdown",
   "metadata": {},
   "source": [
    "## Testing"
   ]
  },
  {
   "cell_type": "code",
   "execution_count": 2,
   "metadata": {},
   "outputs": [
    {
     "name": "stdout",
     "output_type": "stream",
     "text": [
      "No of mobile numbers : 1 Numbers : [4545455]\n",
      "No of mobile numbers : 3 Numbers : [44545455, 54556464, 556]\n",
      "No of mobile numbers : 3 Numbers : [5454, 55666, 56565656]\n",
      "No of mobile numbers : 2 Numbers : [334554, 654565]\n",
      "No of mobile numbers : 2 Numbers : [4565446456, 54598956]\n",
      "No of mobile numbers : 1 Numbers : [3389965]\n",
      "No of mobile numbers : 2 Numbers : [334554, 654565]\n"
     ]
    }
   ],
   "source": [
    "## Examples\n",
    "list_of_Examples = [\n",
    "    \"4545455\",\n",
    "    \"44545455/54556464/556\",\n",
    "    \"5454,55666,56565656\",\n",
    "    \"(033) 4554, 654565\",\n",
    "    \"45654-464-56,545-989-56\",\n",
    "    \"(033)-89-965\",\n",
    "    \"(033) 4554, 654- -56 -5\",\n",
    "\n",
    "]\n",
    "for i in list_of_Examples:\n",
    "    noofmobiles, mobilenos = cleanData(i)\n",
    "    print(f\"No of mobile numbers : {noofmobiles} Numbers : {mobilenos}\")"
   ]
  },
  {
   "cell_type": "code",
   "execution_count": 3,
   "metadata": {},
   "outputs": [
    {
     "data": {
      "text/plain": [
       "(1, [919333584419])"
      ]
     },
     "execution_count": 3,
     "metadata": {},
     "output_type": "execute_result"
    }
   ],
   "source": [
    "cleanData(\"(+91) 9333584419, ,     , ,      \")"
   ]
  },
  {
   "cell_type": "code",
   "execution_count": 1,
   "metadata": {},
   "outputs": [],
   "source": [
    "import re\n",
    "def getMobileAndLandlineNumbers(number, code = \"033\", allowed_landline_number_length = 8):\n",
    "    intermediate_trash_chars = [\" \",\"(\",\")\",\"-\"]\n",
    "    clean_number = str(number)\n",
    "    for itc in intermediate_trash_chars:\n",
    "        clean_number = clean_number.replace(itc,\"\")   \n",
    "    \n",
    "    clean_nos = []\n",
    "    pattern_sequence = [  \"(?<=91)([0-9]{10})\", code+\"[0-9]{\"+str(allowed_landline_number_length)+\"}\", \"0[0-9]{10}\", \"[0-9]{10}\", \"[0-9]{\"+str(allowed_landline_number_length)+\"}\" ]\n",
    "    for pattern in pattern_sequence:\n",
    "        for nos in re.findall(pattern,clean_number):\n",
    "            clean_nos.append(nos)\n",
    "        clean_number = re.sub(pattern,\"\",clean_number)\n",
    "    \n",
    "    clean_nos_size = len(clean_nos)\n",
    "    \n",
    "    \n",
    "    return clean_nos, clean_nos_size"
   ]
  },
  {
   "cell_type": "code",
   "execution_count": 2,
   "metadata": {},
   "outputs": [
    {
     "name": "stdout",
     "output_type": "stream",
     "text": [
      "No of mobile numbers : ['03312345678'] Numbers : 1\n",
      "No of mobile numbers : ['03312345678', '22345678', '32345678'] Numbers : 3\n",
      "No of mobile numbers : ['56565656'] Numbers : 1\n",
      "No of mobile numbers : ['03312345678'] Numbers : 1\n",
      "No of mobile numbers : ['03312345678'] Numbers : 1\n",
      "No of mobile numbers : ['03389149652'] Numbers : 1\n",
      "No of mobile numbers : [] Numbers : 0\n",
      "No of mobile numbers : ['1234567890'] Numbers : 1\n",
      "No of mobile numbers : ['1234567890'] Numbers : 1\n",
      "No of mobile numbers : ['1234567890'] Numbers : 1\n",
      "No of mobile numbers : ['1234567890'] Numbers : 1\n",
      "No of mobile numbers : ['1234567890'] Numbers : 1\n",
      "No of mobile numbers : ['1234567890'] Numbers : 1\n",
      "No of mobile numbers : ['1234567890'] Numbers : 1\n",
      "No of mobile numbers : ['1234567890'] Numbers : 1\n",
      "No of mobile numbers : ['1234567890', '03312345678', '03312345678'] Numbers : 3\n",
      "No of mobile numbers : ['1234567890', '03312345678', '01234567890'] Numbers : 3\n",
      "No of mobile numbers : ['1234567890', '03310340678', '01230567090', '01230567890'] Numbers : 4\n"
     ]
    }
   ],
   "source": [
    "## Examples\n",
    "list_of_Examples = [\n",
    "    \"03312345678\",\n",
    "    \"03312345678/22345678/32345678\",\n",
    "    \"5454,55666,56565656\",\n",
    "    \"(033) 4554, (033) 1234 5678\",\n",
    "    \"033-1234-5678, 15 cylinders available\",\n",
    "    \"(033)-8914-9652\",\n",
    "    \"(033) 4554, 654- -56 -5\",\n",
    "    \" +91 1234567890\",\n",
    "    \" +91 12345 67890\",\n",
    "    \"+911234567890\",\n",
    "    \"911234567890\",\n",
    "    \"1234567890\",\n",
    "    \"(+91)1234567890\",\n",
    "    \"(+91)12345-67890\",\n",
    "    \"(+91) 12345-67890\",\n",
    "    \"(+91) 12345-67890,  033-1234-5678,  033-1234-5678\",\n",
    "    \"(+91) 12345-67890,  012345-67890,  033-1234-5678\",\n",
    "    \"(+91) 12345-67890,  033-1034-0678 012305-67090 012305-67890\",\n",
    "]\n",
    "for i in list_of_Examples:\n",
    "    #City code 033, landline number length 8\n",
    "    noofmobiles, mobilenos = getMobileAndLandlineNumbers(i,\"033\",8)\n",
    "    print(f\"No of mobile numbers : {noofmobiles} Numbers : {mobilenos}\")"
   ]
  },
  {
   "cell_type": "code",
   "execution_count": null,
   "metadata": {},
   "outputs": [],
   "source": []
  }
 ],
 "metadata": {
  "kernelspec": {
   "display_name": "Python 3",
   "language": "python",
   "name": "python3"
  },
  "language_info": {
   "codemirror_mode": {
    "name": "ipython",
    "version": 3
   },
   "file_extension": ".py",
   "mimetype": "text/x-python",
   "name": "python",
   "nbconvert_exporter": "python",
   "pygments_lexer": "ipython3",
   "version": "3.6.9"
  }
 },
 "nbformat": 4,
 "nbformat_minor": 4
}
