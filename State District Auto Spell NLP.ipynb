{
 "cells": [
  {
   "cell_type": "markdown",
   "metadata": {},
   "source": [
    "## Train model"
   ]
  },
  {
   "cell_type": "code",
   "execution_count": 2,
   "metadata": {
    "collapsed": true
   },
   "outputs": [
    {
     "name": "stdout",
     "output_type": "stream",
     "text": [
      "/home/tanmoy/anaconda3/lib/python3.8/site-packages/secretstorage/dhcrypto.py:16: CryptographyDeprecationWarning: int_from_bytes is deprecated, use int.from_bytes instead\n",
      "  from cryptography.utils import int_from_bytes\n",
      "/home/tanmoy/anaconda3/lib/python3.8/site-packages/secretstorage/util.py:25: CryptographyDeprecationWarning: int_from_bytes is deprecated, use int.from_bytes instead\n",
      "  from cryptography.utils import int_from_bytes\n",
      "Collecting textblob\n",
      "  Downloading textblob-0.15.3-py2.py3-none-any.whl (636 kB)\n",
      "\u001b[K     |████████████████████████████████| 636 kB 636 kB/s eta 0:00:01\n",
      "\u001b[?25hRequirement already satisfied: nltk>=3.1 in /home/tanmoy/anaconda3/lib/python3.8/site-packages (from textblob) (3.5)\n",
      "Requirement already satisfied: joblib in /home/tanmoy/anaconda3/lib/python3.8/site-packages (from nltk>=3.1->textblob) (0.17.0)\n",
      "Requirement already satisfied: click in /home/tanmoy/anaconda3/lib/python3.8/site-packages (from nltk>=3.1->textblob) (7.1.2)\n",
      "Requirement already satisfied: regex in /home/tanmoy/anaconda3/lib/python3.8/site-packages (from nltk>=3.1->textblob) (2020.10.15)\n",
      "Requirement already satisfied: tqdm in /home/tanmoy/anaconda3/lib/python3.8/site-packages (from nltk>=3.1->textblob) (4.50.2)\n",
      "Installing collected packages: textblob\n",
      "Successfully installed textblob-0.15.3\n"
     ]
    }
   ],
   "source": [
    "!pip install textblob"
   ]
  },
  {
   "cell_type": "markdown",
   "metadata": {},
   "source": [
    "## Training District"
   ]
  },
  {
   "cell_type": "code",
   "execution_count": 3,
   "metadata": {},
   "outputs": [],
   "source": [
    "from textblob.en import Spelling        \n",
    "import re\n",
    "\n",
    "textToLower = \"\"\n",
    "\n",
    "with open(\"district.txt\",\"r\") as f1:           # Open our source file\n",
    "\ttext = f1.read()                                  # Read the file                 \n",
    "\ttextToLower = text.lower() \n",
    "    \n",
    "    \n",
    "words = re.findall(\"[a-z]+\", textToLower)             # Find all the words and place them into a list    \n",
    "oneString = \" \".join(words)                           # Join them into one string"
   ]
  },
  {
   "cell_type": "code",
   "execution_count": 5,
   "metadata": {},
   "outputs": [],
   "source": [
    "pathToFile = \"train.txt\"                              # The path we want to store our stats file at\n",
    "spelling = Spelling(path = pathToFile)                # Connect the path to the Spelling object\n",
    "spelling.train(oneString, pathToFile)                 # Train"
   ]
  },
  {
   "cell_type": "markdown",
   "metadata": {},
   "source": [
    "## Testing district"
   ]
  },
  {
   "cell_type": "code",
   "execution_count": 60,
   "metadata": {
    "collapsed": true
   },
   "outputs": [
    {
     "data": {
      "text/plain": [
       "[('bardhaman', 1.0)]"
      ]
     },
     "execution_count": 60,
     "metadata": {},
     "output_type": "execute_result"
    }
   ],
   "source": [
    "from textblob.en import Spelling        \n",
    "from textblob import TextBlob\n",
    "\n",
    "pathToFile = \"train.txt\" \n",
    "\n",
    "spelling = Spelling(path = pathToFile)\n",
    "spelling.suggest(\"bordhoman\")"
   ]
  },
  {
   "cell_type": "markdown",
   "metadata": {},
   "source": [
    "## Trainig State"
   ]
  },
  {
   "cell_type": "code",
   "execution_count": 62,
   "metadata": {},
   "outputs": [],
   "source": [
    "from textblob.en import Spelling        \n",
    "import re\n",
    "\n",
    "textToLower = \"\"\n",
    "\n",
    "with open(\"state.txt\",\"r\") as f1:           # Open our source file\n",
    "\ttext = f1.read()                                  # Read the file                 \n",
    "\ttextToLower = text.lower() \n",
    "    \n",
    "    \n",
    "words = re.findall(\"[a-z]+\", textToLower)             # Find all the words and place them into a list    \n",
    "oneString = \" \".join(words)                           # Join them into one string\n",
    "pathToFile = \"train_state.txt\"                              # The path we want to store our stats file at\n",
    "spelling = Spelling(path = pathToFile)                # Connect the path to the Spelling object\n",
    "spelling.train(oneString, pathToFile)                 # Train"
   ]
  },
  {
   "cell_type": "markdown",
   "metadata": {},
   "source": [
    "## Testing State"
   ]
  },
  {
   "cell_type": "code",
   "execution_count": 147,
   "metadata": {},
   "outputs": [
    {
     "data": {
      "text/plain": [
       "[('andaman', 1.0)]"
      ]
     },
     "execution_count": 147,
     "metadata": {},
     "output_type": "execute_result"
    }
   ],
   "source": [
    "from textblob.en import Spelling        \n",
    "from textblob import TextBlob\n",
    "\n",
    "pathToFile = \"train_state.txt\" \n",
    "\n",
    "spelling = Spelling(path = pathToFile)\n",
    "\n",
    "\n",
    "spelling.suggest(\"andhaman\")"
   ]
  },
  {
   "cell_type": "code",
   "execution_count": null,
   "metadata": {},
   "outputs": [],
   "source": []
  },
  {
   "cell_type": "code",
   "execution_count": null,
   "metadata": {},
   "outputs": [],
   "source": []
  },
  {
   "cell_type": "markdown",
   "metadata": {},
   "source": [
    "## Function for district"
   ]
  },
  {
   "cell_type": "code",
   "execution_count": 25,
   "metadata": {},
   "outputs": [],
   "source": [
    "from textblob.en import Spelling        \n",
    "from textblob import TextBlob\n",
    "\n",
    "pathToFile = \"train_district.txt\"\n",
    "spelling_district = Spelling(path = pathToFile)\n",
    "\n",
    "\n",
    "def filter_district_name(name):\n",
    "    result  = []\n",
    "    name.replace(\".\",\" \")\n",
    "    \n",
    "    if \"-\" in name:\n",
    "        name = name.split(\"-\")\n",
    "    else:\n",
    "        name = name.split(\" \")\n",
    "        \n",
    "    for i in name:\n",
    "        i = i.lower().strip()\n",
    "        # Replace the initals W. N. S. E.\n",
    "        if i == \"n\":\n",
    "            i = \"north\"\n",
    "        elif i == \"s\":\n",
    "            i = \"south\"\n",
    "        elif i == \"e\":\n",
    "            i = \"east\"\n",
    "        elif i == \"w\":\n",
    "            i = \"west\"\n",
    "        elif i == \"pgs\":\n",
    "            i = \"parganas\"\n",
    "            \n",
    "        print(i)\n",
    "        word, percentage = spelling_district.suggest(i)[0]\n",
    "        if percentage > 0:\n",
    "            word.strip()\n",
    "            # Correct with different spelling that can be used in DB specification\n",
    "            if word == \"midnapore\":\n",
    "                word = \"medinipur\"\n",
    "            elif word == \"burdwan\":\n",
    "                word = \"bardhaman\"\n",
    "            elif word == \"hugli\":\n",
    "                word = \"hooghly\"\n",
    "            \n",
    "            result.append(word.title())\n",
    "    \n",
    "                \n",
    "    if \"Bardhaman\" in result:\n",
    "        if \"West\" in result:\n",
    "            result[0] = \"Paschim\"\n",
    "\n",
    "        elif \"East\" in result:\n",
    "            result[0] = \"Purba\"\n",
    "            \n",
    "    return ' '.join(result)"
   ]
  },
  {
   "cell_type": "code",
   "execution_count": 26,
   "metadata": {},
   "outputs": [
    {
     "name": "stdout",
     "output_type": "stream",
     "text": [
      "W.MIDNAPORE\n",
      "w.midnapore\n"
     ]
    },
    {
     "data": {
      "text/plain": [
       "'Medinipur'"
      ]
     },
     "execution_count": 26,
     "metadata": {},
     "output_type": "execute_result"
    }
   ],
   "source": [
    "filter_district_name(\"W.MIDNAPORE\")"
   ]
  },
  {
   "cell_type": "markdown",
   "metadata": {},
   "source": [
    "## Function for state"
   ]
  },
  {
   "cell_type": "code",
   "execution_count": 3,
   "metadata": {},
   "outputs": [],
   "source": [
    "from textblob.en import Spelling        \n",
    "from textblob import TextBlob\n",
    "\n",
    "pathToFile = \"train_state.txt\"\n",
    "spelling_district = Spelling(path = pathToFile)\n",
    "\n",
    "\n",
    "def filter_state_name(name):\n",
    "    result  = []\n",
    "    name.replace(\".\",\" \")\n",
    "    if \"-\" in name:\n",
    "        name = name.split(\"-\")\n",
    "    else:\n",
    "        name = name.split(\" \")\n",
    "        \n",
    "    for i in name:\n",
    "        i = i.lower().strip()\n",
    "        # Replace the initals W. N. S. E.\n",
    "        if i == \"n\":\n",
    "            i = \"north\"\n",
    "        elif i == \"s\":\n",
    "            i = \"south\"\n",
    "        elif i == \"e\":\n",
    "            i = \"east\"\n",
    "        elif i == \"w\":\n",
    "            i = \"west\"\n",
    "\n",
    "        word, percentage = spelling_district.suggest(i)[0]\n",
    "        if percentage > 0:\n",
    "            # Correct with different spelling that can be used in DB specification\n",
    "            result.append(word.title())\n",
    "            \n",
    "    return ' '.join(result)"
   ]
  },
  {
   "cell_type": "code",
   "execution_count": 4,
   "metadata": {},
   "outputs": [
    {
     "data": {
      "text/plain": [
       "'West Bengal'"
      ]
     },
     "execution_count": 4,
     "metadata": {},
     "output_type": "execute_result"
    }
   ],
   "source": [
    "filter_state_name(\"w bengal\")"
   ]
  },
  {
   "cell_type": "code",
   "execution_count": 8,
   "metadata": {},
   "outputs": [
    {
     "name": "stdout",
     "output_type": "stream",
     "text": [
      " process --   -- DONE\n",
      "ALIPURDUAR process -- Alipurduar  -- DONE\n",
      "BANKURA process -- Bankura  -- DONE\n",
      "BANKURA process -- Bankura  -- DONE\n",
      "BIRBHUM process -- Birbhum  -- DONE\n",
      "BIRBHUM process -- Birbhum  -- DONE\n",
      "BIRBHUM process -- Birbhum  -- DONE\n",
      "DARJEELING process -- Darjeeling  -- DONE\n",
      "DARJEELING process -- Darjeeling  -- DONE\n",
      "EAST BURDWAN process -- Purba Bardhaman  -- DONE\n",
      "EAST BURDWAN process -- Purba Bardhaman  -- DONE\n",
      "HOOGHLY process -- Hooghly  -- DONE\n",
      "HOOGHLY process -- Hooghly  -- DONE\n",
      "HOOGHLY process -- Hooghly  -- DONE\n",
      "HOOGHLY process -- Hooghly  -- DONE\n",
      "HOOGHLY process -- Hooghly  -- DONE\n",
      "HOOGHLY process -- Hooghly  -- DONE\n",
      "HOOGHLY process -- Hooghly  -- DONE\n",
      "HOOGHLY process -- Hooghly  -- DONE\n",
      "HOOGHLY process -- Hooghly  -- DONE\n",
      "HOOGHLY process -- Hooghly  -- DONE\n",
      "HOOGHLY process -- Hooghly  -- DONE\n",
      "HOOGHLY process -- Hooghly  -- DONE\n",
      "HOOGHLY process -- Hooghly  -- DONE\n",
      "HOOGHLY process -- Hooghly  -- DONE\n",
      "HOOGHLY process -- Hooghly  -- DONE\n",
      "HOOGHLY process -- Hooghly  -- DONE\n",
      "HOOGHLY process -- Hooghly  -- DONE\n",
      "HOOGHLY process -- Hooghly  -- DONE\n",
      "hugly process -- Hooghly  -- DONE\n",
      "HOWRAH process -- Howrah  -- DONE\n",
      "HOWRAH process -- Howrah  -- DONE\n",
      "KOLKATA process -- Kolkata  -- DONE\n",
      "KOLKATA process -- Kolkata  -- DONE\n",
      "KOLKATA process -- Kolkata  -- DONE\n",
      "KOLKATA process -- Kolkata  -- DONE\n",
      "KOLKATA process -- Kolkata  -- DONE\n",
      "KOLKATA process -- Kolkata  -- DONE\n",
      "KOLKATA process -- Kolkata  -- DONE\n",
      "KOLKATA process -- Kolkata  -- DONE\n",
      "KOLKATA process -- Kolkata  -- DONE\n",
      "KOLKATA process -- Kolkata  -- DONE\n",
      "KOLKATA process -- Kolkata  -- DONE\n",
      "KOLKATA process -- Kolkata  -- DONE\n",
      "KOLKATA process -- Kolkata  -- DONE\n",
      "KOLKATA process -- Kolkata  -- DONE\n",
      "KOLKATA process -- Kolkata  -- DONE\n",
      "KOLKATA process -- Kolkata  -- DONE\n",
      "KOLKATA process -- Kolkata  -- DONE\n",
      "KOLKATA process -- Kolkata  -- DONE\n",
      "KOLKATA process -- Kolkata  -- DONE\n",
      "KOLKATA process -- Kolkata  -- DONE\n",
      "KOLKATA process -- Kolkata  -- DONE\n",
      "KOLKATA process -- Kolkata  -- DONE\n",
      "KOLKATA process -- Kolkata  -- DONE\n",
      "KOLKATA process -- Kolkata  -- DONE\n",
      "KOLKATA process -- Kolkata  -- DONE\n",
      "KOLKATA process -- Kolkata  -- DONE\n",
      "KOLKATA process -- Kolkata  -- DONE\n",
      "KOLKATA process -- Kolkata  -- DONE\n",
      "KOLKATA process -- Kolkata  -- DONE\n",
      "KOLKATA process -- Kolkata  -- DONE\n",
      "KOLKATA process -- Kolkata  -- DONE\n",
      "KOLKATA process -- Kolkata  -- DONE\n",
      "KOLKATA process -- Kolkata  -- DONE\n",
      "KOLKATA process -- Kolkata  -- DONE\n",
      "KOLKATA process -- Kolkata  -- DONE\n",
      "KOLKATA process -- Kolkata  -- DONE\n",
      "KOLKATA process -- Kolkata  -- DONE\n",
      "KOLKATA process -- Kolkata  -- DONE\n",
      "KOLKATA process -- Kolkata  -- DONE\n",
      "KOLKATA process -- Kolkata  -- DONE\n",
      "KOLKATA process -- Kolkata  -- DONE\n",
      "KOLKATA process -- Kolkata  -- DONE\n",
      "KOLKATA process -- Kolkata  -- DONE\n",
      "KOLKATA process -- Kolkata  -- DONE\n",
      "KOLKATA process -- Kolkata  -- DONE\n",
      "KOLKATA process -- Kolkata  -- DONE\n",
      "KOLKATA process -- Kolkata  -- DONE\n",
      "MALDA process -- Malda  -- DONE\n",
      "MALDA process -- Malda  -- DONE\n",
      "MALDA process -- Malda  -- DONE\n",
      "MALDA process -- Malda  -- DONE\n",
      "MALDA process -- Malda  -- DONE\n",
      "MALDA process -- Malda  -- DONE\n",
      "MALDA process -- Malda  -- DONE\n",
      "MURSHIDABAD process -- Murshidabad  -- DONE\n",
      "MURSHIDABAD process -- Murshidabad  -- DONE\n",
      "MURSHIDABAD process -- Murshidabad  -- DONE\n",
      "MURSHIDABAD process -- Murshidabad  -- DONE\n",
      "MURSHIDABAD process -- Murshidabad  -- DONE\n",
      "MURSHIDABAD process -- Murshidabad  -- DONE\n",
      "N. DINAJPUR process -- Una Dinajpur  -- DONE\n",
      "N. DINAJPUR process -- Una Dinajpur  -- DONE\n",
      "NADIA process -- Nadia  -- DONE\n",
      "NADIA process -- Nadia  -- DONE\n",
      "NADIA process -- Nadia  -- DONE\n",
      "NADIA process -- Nadia  -- DONE\n",
      "NADIA process -- Nadia  -- DONE\n",
      "NADIA process -- Nadia  -- DONE\n",
      "NORTH 24 PGS process -- North 24 Parganas  -- DONE\n",
      "NORTH 24 PGS process -- North 24 Parganas  -- DONE\n",
      "NORTH 24 PGS process -- North 24 Parganas  -- DONE\n",
      "NORTH 24 PGS process -- North 24 Parganas  -- DONE\n",
      "NORTH 24 PGS process -- North 24 Parganas  -- DONE\n",
      "NORTH 24 PGS process -- North 24 Parganas  -- DONE\n",
      "NORTH 24 PGS process -- North 24 Parganas  -- DONE\n",
      "NORTH 24 PGS process -- North 24 Parganas  -- DONE\n",
      "NORTH 24 PGS process -- North 24 Parganas  -- DONE\n",
      "NORTH 24 PGS process -- North 24 Parganas  -- DONE\n",
      "NORTH 24 PGS process -- North 24 Parganas  -- DONE\n",
      "NORTH 24 PGS process -- North 24 Parganas  -- DONE\n",
      "NORTH 24 PGS process -- North 24 Parganas  -- DONE\n",
      "NORTH 24 PGS process -- North 24 Parganas  -- DONE\n",
      "NORTH 24 PGS process -- North 24 Parganas  -- DONE\n",
      "NORTH 24 PGS process -- North 24 Parganas  -- DONE\n",
      "NORTH 24 PGS process -- North 24 Parganas  -- DONE\n",
      "NORTH 24 PGS process -- North 24 Parganas  -- DONE\n",
      "NORTH 24 PGS process -- North 24 Parganas  -- DONE\n",
      "NORTH 24 PGS process -- North 24 Parganas  -- DONE\n",
      "NORTH 24 PGS process -- North 24 Parganas  -- DONE\n",
      "NORTH 24 PGS process -- North 24 Parganas  -- DONE\n",
      "NORTH 24 PGS process -- North 24 Parganas  -- DONE\n",
      "NORTH 24 PGS process -- North 24 Parganas  -- DONE\n",
      "NORTH 24 PGS process -- North 24 Parganas  -- DONE\n",
      "NORTH 24 PGS process -- North 24 Parganas  -- DONE\n",
      "NORTH 24 PGS process -- North 24 Parganas  -- DONE\n",
      "NORTH 24 PGS process -- North 24 Parganas  -- DONE\n",
      "NORTH 24 PGS process -- North 24 Parganas  -- DONE\n",
      "NORTH 24 PGS process -- North 24 Parganas  -- DONE\n",
      "NORTH 24 PGS process -- North 24 Parganas  -- DONE\n",
      "NORTH 24 PGS process -- North 24 Parganas  -- DONE\n",
      "NORTH 24 PGS process -- North 24 Parganas  -- DONE\n",
      "NORTH 24 PGS process -- North 24 Parganas  -- DONE\n",
      "NORTH 24 PGS process -- North 24 Parganas  -- DONE\n",
      "NORTH 24 PGS process -- North 24 Parganas  -- DONE\n",
      "NORTH 24 PGS process -- North 24 Parganas  -- DONE\n",
      "NORTH 24 PGS process -- North 24 Parganas  -- DONE\n",
      "NORTH 24 PGS process -- North 24 Parganas  -- DONE\n",
      "NORTH 24 PGS process -- North 24 Parganas  -- DONE\n",
      "NORTH 24 PGS process -- North 24 Parganas  -- DONE\n",
      "PURULIA process -- Purulia  -- DONE\n",
      "SOUTH 24 PGS process -- South 24 Parganas  -- DONE\n",
      "SOUTH 24 PGS process -- South 24 Parganas  -- DONE\n",
      "SOUTH 24 PGS process -- South 24 Parganas  -- DONE\n",
      "SOUTH 24 PGS process -- South 24 Parganas  -- DONE\n",
      "W. MIDNAPORE process -- Ri Medinipur  -- DONE\n",
      "W. MIDNAPORE process -- Ri Medinipur  -- DONE\n",
      "W. MIDNAPORE process -- Ri Medinipur  -- DONE\n",
      "W. MIDNAPORE process -- Ri Medinipur  -- DONE\n",
      "WEST BURDWAN process -- Paschim Bardhaman  -- DONE\n",
      "WEST BURDWAN process -- Paschim Bardhaman  -- DONE\n",
      "WEST BURDWAN process -- Paschim Bardhaman  -- DONE\n",
      "WEST BURDWAN process -- Paschim Bardhaman  -- DONE\n",
      "WEST BURDWAN process -- Paschim Bardhaman  -- DONE\n",
      "WEST BURDWAN process -- Paschim Bardhaman  -- DONE\n",
      "WEST BURDWAN process -- Paschim Bardhaman  -- DONE\n",
      "WEST BURDWAN process -- Paschim Bardhaman  -- DONE\n",
      "WEST BURDWAN process -- Paschim Bardhaman  -- DONE\n",
      "WEST BURDWAN process -- Paschim Bardhaman  -- DONE\n",
      " process --   -- DONE\n"
     ]
    }
   ],
   "source": [
    "# Testing\n",
    "\n",
    "\n",
    "name = '''\n",
    "ALIPURDUAR\n",
    "BANKURA\n",
    "BANKURA\n",
    "BIRBHUM\n",
    "BIRBHUM\n",
    "BIRBHUM\n",
    "DARJEELING\n",
    "DARJEELING\n",
    "EAST BURDWAN\n",
    "EAST BURDWAN\n",
    "HOOGHLY\n",
    "HOOGHLY\n",
    "HOOGHLY\n",
    "HOOGHLY\n",
    "HOOGHLY\n",
    "HOOGHLY\n",
    "HOOGHLY\n",
    "HOOGHLY\n",
    "HOOGHLY\n",
    "HOOGHLY\n",
    "HOOGHLY\n",
    "HOOGHLY\n",
    "HOOGHLY\n",
    "HOOGHLY\n",
    "HOOGHLY\n",
    "HOOGHLY\n",
    "HOOGHLY\n",
    "HOOGHLY\n",
    "hugly\n",
    "HOWRAH\n",
    "HOWRAH\n",
    "KOLKATA\n",
    "KOLKATA\n",
    "KOLKATA\n",
    "KOLKATA\n",
    "KOLKATA\n",
    "KOLKATA\n",
    "KOLKATA\n",
    "KOLKATA\n",
    "KOLKATA\n",
    "KOLKATA\n",
    "KOLKATA\n",
    "KOLKATA\n",
    "KOLKATA\n",
    "KOLKATA\n",
    "KOLKATA\n",
    "KOLKATA\n",
    "KOLKATA\n",
    "KOLKATA\n",
    "KOLKATA\n",
    "KOLKATA\n",
    "KOLKATA\n",
    "KOLKATA\n",
    "KOLKATA\n",
    "KOLKATA\n",
    "KOLKATA\n",
    "KOLKATA\n",
    "KOLKATA\n",
    "KOLKATA\n",
    "KOLKATA\n",
    "KOLKATA\n",
    "KOLKATA\n",
    "KOLKATA\n",
    "KOLKATA\n",
    "KOLKATA\n",
    "KOLKATA\n",
    "KOLKATA\n",
    "KOLKATA\n",
    "KOLKATA\n",
    "KOLKATA\n",
    "KOLKATA\n",
    "KOLKATA\n",
    "KOLKATA\n",
    "KOLKATA\n",
    "KOLKATA\n",
    "KOLKATA\n",
    "KOLKATA\n",
    "KOLKATA\n",
    "MALDA\n",
    "MALDA\n",
    "MALDA\n",
    "MALDA\n",
    "MALDA\n",
    "MALDA\n",
    "MALDA\n",
    "MURSHIDABAD\n",
    "MURSHIDABAD\n",
    "MURSHIDABAD\n",
    "MURSHIDABAD\n",
    "MURSHIDABAD\n",
    "MURSHIDABAD\n",
    "N. DINAJPUR\n",
    "N. DINAJPUR\n",
    "NADIA\n",
    "NADIA\n",
    "NADIA\n",
    "NADIA\n",
    "NADIA\n",
    "NADIA\n",
    "NORTH 24 PGS\n",
    "NORTH 24 PGS\n",
    "NORTH 24 PGS\n",
    "NORTH 24 PGS\n",
    "NORTH 24 PGS\n",
    "NORTH 24 PGS\n",
    "NORTH 24 PGS\n",
    "NORTH 24 PGS\n",
    "NORTH 24 PGS\n",
    "NORTH 24 PGS\n",
    "NORTH 24 PGS\n",
    "NORTH 24 PGS\n",
    "NORTH 24 PGS\n",
    "NORTH 24 PGS\n",
    "NORTH 24 PGS\n",
    "NORTH 24 PGS\n",
    "NORTH 24 PGS\n",
    "NORTH 24 PGS\n",
    "NORTH 24 PGS\n",
    "NORTH 24 PGS\n",
    "NORTH 24 PGS\n",
    "NORTH 24 PGS\n",
    "NORTH 24 PGS\n",
    "NORTH 24 PGS\n",
    "NORTH 24 PGS\n",
    "NORTH 24 PGS\n",
    "NORTH 24 PGS\n",
    "NORTH 24 PGS\n",
    "NORTH 24 PGS\n",
    "NORTH 24 PGS\n",
    "NORTH 24 PGS\n",
    "NORTH 24 PGS\n",
    "NORTH 24 PGS\n",
    "NORTH 24 PGS\n",
    "NORTH 24 PGS\n",
    "NORTH 24 PGS\n",
    "NORTH 24 PGS\n",
    "NORTH 24 PGS\n",
    "NORTH 24 PGS\n",
    "NORTH 24 PGS\n",
    "NORTH 24 PGS\n",
    "PURULIA\n",
    "SOUTH 24 PGS\n",
    "SOUTH 24 PGS\n",
    "SOUTH 24 PGS\n",
    "SOUTH 24 PGS\n",
    "W. MIDNAPORE\n",
    "W. MIDNAPORE\n",
    "W. MIDNAPORE\n",
    "W. MIDNAPORE\n",
    "WEST BURDWAN\n",
    "WEST BURDWAN\n",
    "WEST BURDWAN\n",
    "WEST BURDWAN\n",
    "WEST BURDWAN\n",
    "WEST BURDWAN\n",
    "WEST BURDWAN\n",
    "WEST BURDWAN\n",
    "WEST BURDWAN\n",
    "WEST BURDWAN\n",
    "'''\n",
    "\n",
    "for i in name.split(\"\\n\"):\n",
    "    print(f\"{i} process -- {filter_district_name(i)}  -- DONE\")"
   ]
  },
  {
   "cell_type": "code",
   "execution_count": 144,
   "metadata": {},
   "outputs": [
    {
     "data": {
      "text/plain": [
       "'Hoogly'"
      ]
     },
     "execution_count": 144,
     "metadata": {},
     "output_type": "execute_result"
    }
   ],
   "source": [
    "filter_district_name(\"hoogli\")"
   ]
  },
  {
   "cell_type": "code",
   "execution_count": null,
   "metadata": {},
   "outputs": [],
   "source": []
  }
 ],
 "metadata": {
  "kernelspec": {
   "display_name": "Python 3",
   "language": "python",
   "name": "python3"
  },
  "language_info": {
   "codemirror_mode": {
    "name": "ipython",
    "version": 3
   },
   "file_extension": ".py",
   "mimetype": "text/x-python",
   "name": "python",
   "nbconvert_exporter": "python",
   "pygments_lexer": "ipython3",
   "version": "3.8.5"
  }
 },
 "nbformat": 4,
 "nbformat_minor": 4
}
